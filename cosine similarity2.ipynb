{
 "cells": [
  {
   "cell_type": "code",
   "execution_count": 1,
   "metadata": {},
   "outputs": [],
   "source": [
    "from pyspark import SparkConf, SparkContext\n",
    "import pandas as pd\n",
    "import numpy as np\n",
    "from math import sqrt"
   ]
  },
  {
   "cell_type": "code",
   "execution_count": 2,
   "metadata": {},
   "outputs": [],
   "source": [
    "sc = SparkContext.getOrCreate()"
   ]
  },
  {
   "cell_type": "code",
   "execution_count": 3,
   "metadata": {},
   "outputs": [],
   "source": [
    "rating_data = sc.textFile(\"ml-100k/u.data\")\n",
    "movie_data = sc.textFile(\"ml-100k/u.item\")"
   ]
  },
  {
   "cell_type": "code",
   "execution_count": 26,
   "metadata": {},
   "outputs": [],
   "source": [
    "def __extract_user_rating(line):\n",
    "            data = line.split('\\t')\n",
    "            return (int(data[0]), (int(data[1]), float(data[2])))"
   ]
  },
  {
   "cell_type": "code",
   "execution_count": 28,
   "metadata": {},
   "outputs": [
    {
     "data": {
      "text/plain": [
       "[(634, (547, 4.0)),\n",
       " (804, (204, 4.0)),\n",
       " (514, (792, 4.0)),\n",
       " (296, (480, 5.0)),\n",
       " (622, (705, 3.0))]"
      ]
     },
     "execution_count": 28,
     "metadata": {},
     "output_type": "execute_result"
    }
   ],
   "source": [
    "user_rating_lists = rating_data.map(__extract_user_rating)#.reduceByKey(lambda v1, v2: v1 + v2)\n",
    "user_rating_lists.takeSample(False, 5)"
   ]
  },
  {
   "cell_type": "code",
   "execution_count": 29,
   "metadata": {},
   "outputs": [
    {
     "data": {
      "text/plain": [
       "[(712, ((755, 4.0), (1503, 4.0))),\n",
       " (416, ((184, 4.0), (195, 5.0))),\n",
       " (727, ((125, 4.0), (210, 3.0))),\n",
       " (655, ((631, 4.0), (966, 3.0))),\n",
       " (524, ((715, 4.0), (660, 5.0)))]"
      ]
     },
     "execution_count": 29,
     "metadata": {},
     "output_type": "execute_result"
    }
   ],
   "source": [
    "join_lists = user_rating_lists.join(user_rating_lists)\n",
    "join_lists.takeSample(False, 5)"
   ]
  },
  {
   "cell_type": "code",
   "execution_count": 30,
   "metadata": {},
   "outputs": [],
   "source": [
    "def filter_movies(line):\n",
    "    movie1 = line[1][0]\n",
    "    movie2 = line[1][1]\n",
    "    \n",
    "    return movie1 < movie2"
   ]
  },
  {
   "cell_type": "code",
   "execution_count": 34,
   "metadata": {},
   "outputs": [
    {
     "data": {
      "text/plain": [
       "[(94, ((233, 3.0), (625, 4.0))),\n",
       " (406, ((22, 3.0), (131, 2.0))),\n",
       " (669, ((174, 3.0), (222, 3.0))),\n",
       " (13, ((204, 5.0), (353, 4.0))),\n",
       " (391, ((204, 3.0), (435, 5.0)))]"
      ]
     },
     "execution_count": 34,
     "metadata": {},
     "output_type": "execute_result"
    }
   ],
   "source": [
    "user_movies_list = join_lists.filter(filter_movies)\n",
    "user_movies_list.takeSample(False, 5)"
   ]
  },
  {
   "cell_type": "code",
   "execution_count": 38,
   "metadata": {},
   "outputs": [],
   "source": [
    "def makePairs(line):\n",
    "    (movie1, rating1) = line[1][0]\n",
    "    (movie2, rating2) = line[1][1]\n",
    "    \n",
    "    return ((movie1, movie2), (rating1, rating2))"
   ]
  },
  {
   "cell_type": "code",
   "execution_count": 39,
   "metadata": {},
   "outputs": [
    {
     "data": {
      "text/plain": [
       "[((198, 483), (5.0, 5.0)),\n",
       " ((208, 288), (5.0, 3.0)),\n",
       " ((38, 218), (1.0, 4.0)),\n",
       " ((79, 154), (4.0, 2.0)),\n",
       " ((39, 248), (3.0, 4.0))]"
      ]
     },
     "execution_count": 39,
     "metadata": {},
     "output_type": "execute_result"
    }
   ],
   "source": [
    "rating_pairs = user_movies_list.map(makePairs)\n",
    "rating_pairs.takeSample(False, 5)"
   ]
  },
  {
   "cell_type": "code",
   "execution_count": 109,
   "metadata": {},
   "outputs": [
    {
     "data": {
      "text/plain": [
       "[((55, 177), <pyspark.resultiterable.ResultIterable at 0x7fb575843fd0>),\n",
       " ((627, 1145), <pyspark.resultiterable.ResultIterable at 0x7fb575858198>),\n",
       " ((342, 878), <pyspark.resultiterable.ResultIterable at 0x7fb575858278>),\n",
       " ((569, 1012), <pyspark.resultiterable.ResultIterable at 0x7fb5758584a8>),\n",
       " ((98, 384), <pyspark.resultiterable.ResultIterable at 0x7fb575843e48>)]"
      ]
     },
     "execution_count": 109,
     "metadata": {},
     "output_type": "execute_result"
    }
   ],
   "source": [
    "moviePairRatings= rating_pairs.groupByKey()\n",
    "moviePairRatings.takeSample(False, 5)"
   ]
  },
  {
   "cell_type": "code",
   "execution_count": 110,
   "metadata": {},
   "outputs": [],
   "source": [
    "def computeCosineSimilarity(ratingPairs):\n",
    "    numPairs = 0\n",
    "    sum_xx = sum_yy = sum_xy = 0\n",
    "    for ratingX, ratingY in ratingPairs:\n",
    "        sum_xx += ratingX * ratingX\n",
    "        sum_yy += ratingY * ratingY\n",
    "        sum_xy += ratingX * ratingY\n",
    "        numPairs += 1\n",
    "\n",
    "    numerator = sum_xy\n",
    "    denominator = sqrt(sum_xx) * sqrt(sum_yy)\n",
    "\n",
    "    score = 0\n",
    "    if (denominator):\n",
    "        score = (numerator / (float(denominator)))\n",
    "\n",
    "    return (score, numPairs)"
   ]
  },
  {
   "cell_type": "code",
   "execution_count": 116,
   "metadata": {},
   "outputs": [],
   "source": [
    "moviePairSimilarities = moviePairRatings.mapValues(computeCosineSimilarity).persist()"
   ]
  },
  {
   "cell_type": "code",
   "execution_count": 119,
   "metadata": {},
   "outputs": [
    {
     "data": {
      "text/plain": [
       "[((577, 1219), (0.8267004114290564, 6)),\n",
       " ((25, 1226), (0.9502501268747329, 19)),\n",
       " ((583, 1009), (0.978021978021978, 5)),\n",
       " ((1005, 1118), (0.9591144340027616, 4)),\n",
       " ((32, 1305), (0.9970544855015815, 2))]"
      ]
     },
     "execution_count": 119,
     "metadata": {},
     "output_type": "execute_result"
    }
   ],
   "source": [
    "moviePairSimilarities.takeSample(False, 5)"
   ]
  },
  {
   "cell_type": "markdown",
   "metadata": {},
   "source": [
    "# Function"
   ]
  },
  {
   "cell_type": "code",
   "execution_count": 120,
   "metadata": {},
   "outputs": [],
   "source": [
    "def _extract_user_rating(line):\n",
    "    data = line.split('\\t')\n",
    "    return (int(data[0]), (int(data[1]), float(data[2])))\n",
    "\n",
    "def _filter_movies(line):\n",
    "    movie1 = line[1][0]\n",
    "    movie2 = line[1][1]\n",
    "    \n",
    "    return movie1 < movie2\n",
    "\n",
    "def _makePairs(line):\n",
    "    (movie1, rating1) = line[1][0]\n",
    "    (movie2, rating2) = line[1][1]\n",
    "    \n",
    "    return ((movie1, movie2), (rating1, rating2))\n",
    "\n",
    "def _computeCosineSimilarity(ratingPairs):\n",
    "    numPairs = 0\n",
    "    sum_xx = sum_yy = sum_xy = 0\n",
    "    for ratingX, ratingY in ratingPairs:\n",
    "        sum_xx += ratingX * ratingX\n",
    "        sum_yy += ratingY * ratingY\n",
    "        sum_xy += ratingX * ratingY\n",
    "        numPairs += 1\n",
    "\n",
    "    numerator = sum_xy\n",
    "    denominator = sqrt(sum_xx) * sqrt(sum_yy)\n",
    "\n",
    "    score = 0\n",
    "    if (denominator):\n",
    "        score = (numerator / (float(denominator)))\n",
    "\n",
    "    return (score, numPairs)\n",
    "\n",
    "rating_data = sc.textFile(\"ml-100k/u.data\")\n",
    "user_rating_lists = rating_data.map(_extract_user_rating)\n",
    "join_lists = user_rating_lists.join(user_rating_lists)\n",
    "\n",
    "user_movies_list = join_lists.filter(_filter_movies)\n",
    "\n",
    "rating_pairs = user_movies_list.map(_makePairs)\n",
    "moviePairRatings= rating_pairs.groupByKey()\n",
    "moviePairSimilarities = moviePairRatings.mapValues(_computeCosineSimilarity).persist()"
   ]
  },
  {
   "cell_type": "code",
   "execution_count": null,
   "metadata": {},
   "outputs": [],
   "source": []
  },
  {
   "cell_type": "code",
   "execution_count": null,
   "metadata": {},
   "outputs": [],
   "source": []
  }
 ],
 "metadata": {
  "kernelspec": {
   "display_name": "Python 3",
   "language": "python",
   "name": "python3"
  },
  "language_info": {
   "codemirror_mode": {
    "name": "ipython",
    "version": 3
   },
   "file_extension": ".py",
   "mimetype": "text/x-python",
   "name": "python",
   "nbconvert_exporter": "python",
   "pygments_lexer": "ipython3",
   "version": "3.6.3"
  }
 },
 "nbformat": 4,
 "nbformat_minor": 2
}
