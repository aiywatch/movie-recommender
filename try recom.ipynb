{
 "cells": [
  {
   "cell_type": "code",
   "execution_count": 1,
   "metadata": {},
   "outputs": [],
   "source": [
    "import sys\n",
    "from pyspark import SparkConf, SparkContext\n",
    "from pyspark.mllib.recommendation import ALS, Rating"
   ]
  },
  {
   "cell_type": "code",
   "execution_count": 2,
   "metadata": {},
   "outputs": [],
   "source": [
    "def loadMovieNames():\n",
    "\tmovieNames = {}\n",
    "\twith open(\"ml-100k/u.item\", encoding='ascii', errors=\"ignore\") as f:\n",
    "\t\tfor line in f:\n",
    "\t\t\tfields = line.split('|')\n",
    "\t\t\tmovieNames[int(fields[0])] = fields[1]\n",
    "\treturn movieNames"
   ]
  },
  {
   "cell_type": "code",
   "execution_count": 3,
   "metadata": {},
   "outputs": [],
   "source": [
    "conf = SparkConf().setMaster(\"local[*]\").setAppName(\"MovieRecommendationsALS\")\n",
    "sc = SparkContext(conf=conf)\n",
    "sc.setCheckpointDir('checkpoint')\n",
    "nameDict = loadMovieNames()"
   ]
  },
  {
   "cell_type": "code",
   "execution_count": 5,
   "metadata": {
    "scrolled": true
   },
   "outputs": [
    {
     "name": "stdout",
     "output_type": "stream",
     "text": [
      "\n",
      "Ratings for user ID 122:\n",
      "Age of Innocence, The (1993): 5.0\n",
      "My Left Foot (1989): 4.0\n",
      "Miracle on 34th Street (1994): 4.0\n",
      "Magnificent Seven, The (1954): 4.0\n",
      "Field of Dreams (1989): 4.0\n",
      "To Die For (1995): 5.0\n",
      "To Kill a Mockingbird (1962): 3.0\n",
      "Bitter Moon (1992): 2.0\n",
      "Sex, Lies, and Videotape (1989): 5.0\n",
      "Unbearable Lightness of Being, The (1988): 5.0\n",
      "Bullets Over Broadway (1994): 3.0\n",
      "Pink Floyd - The Wall (1982): 2.0\n",
      "Walk in the Clouds, A (1995): 3.0\n",
      "Immortal Beloved (1994): 4.0\n",
      "Four Weddings and a Funeral (1994): 5.0\n",
      "Lawrence of Arabia (1962): 5.0\n",
      "Amadeus (1984): 5.0\n",
      "Brazil (1985): 5.0\n",
      "Godfather: Part II, The (1974): 4.0\n",
      "Sirens (1994): 4.0\n",
      "Tombstone (1993): 3.0\n",
      "E.T. the Extra-Terrestrial (1982): 4.0\n",
      "Wyatt Earp (1994): 3.0\n",
      "Shadowlands (1993): 4.0\n",
      "Vanya on 42nd Street (1994): 5.0\n",
      "Adventures of Priscilla, Queen of the Desert, The (1994): 3.0\n",
      "Exotica (1994): 5.0\n",
      "Cape Fear (1962): 3.0\n",
      "Right Stuff, The (1983): 4.0\n",
      "Day the Earth Stood Still, The (1951): 3.0\n",
      "High Noon (1952): 4.0\n",
      "Apocalypse Now (1979): 5.0\n",
      "Forrest Gump (1994): 2.0\n",
      "Piano, The (1993): 5.0\n",
      "Circle of Friends (1995): 4.0\n",
      "Full Monty, The (1997): 5.0\n",
      "Fried Green Tomatoes (1991): 3.0\n",
      "Nobody's Fool (1994): 4.0\n",
      "Seven (Se7en) (1995): 1.0\n",
      "Paper, The (1994): 5.0\n",
      "Short Cuts (1993): 5.0\n",
      "2001: A Space Odyssey (1968): 4.0\n",
      "Some Kind of Wonderful (1987): 3.0\n",
      "Little Buddha (1993): 4.0\n",
      "Fearless (1993): 4.0\n",
      "Clockers (1995): 4.0\n",
      "Henry V (1989): 4.0\n",
      "Mrs. Parker and the Vicious Circle (1994): 5.0\n",
      "Batman (1989): 4.0\n",
      "Much Ado About Nothing (1993): 5.0\n",
      "Sneakers (1992): 4.0\n",
      "Priest (1994): 2.0\n",
      "One Flew Over the Cuckoo's Nest (1975): 3.0\n",
      "Remains of the Day, The (1993): 5.0\n",
      "Godfather, The (1972): 5.0\n",
      "Third Man, The (1949): 4.0\n",
      "Treasure of the Sierra Madre, The (1948): 4.0\n",
      "Reality Bites (1994): 4.0\n",
      "Graduate, The (1967): 5.0\n",
      "Little Women (1994): 5.0\n",
      "Apollo 13 (1995): 4.0\n",
      "\n",
      "Top 10 recommendations:\n",
      "Angel Baby (1995) score 8.252025123280742\n",
      "SubUrbia (1997) score 7.946504559182238\n",
      "Red Firecracker, Green Firecracker (1994) score 7.800484976170457\n",
      "Love! Valour! Compassion! (1997) score 7.5951236288811455\n",
      "Misrables, Les (1995) score 7.538671257907452\n",
      "Old Lady Who Walked in the Sea, The (Vieille qui marchait dans la mer, La) (1991) score 7.474210947569305\n",
      "World of Apu, The (Apur Sansar) (1959) score 7.229734851344235\n",
      "Davy Crockett, King of the Wild Frontier (1955) score 7.039215789104608\n",
      "Jude (1996) score 6.997774735498177\n",
      "Boys, Les (1997) score 6.968742659612758\n"
     ]
    }
   ],
   "source": [
    "data = sc.textFile(\"ml-100k/u.data\")\n",
    "ratings = data.map(lambda l: l.split()).map(lambda l: Rating(int(l[0]), int(l[1]), float(l[2]))).cache()\n",
    "rank = 10\n",
    "numIterations = 6\n",
    "model = ALS.train(ratings, rank, numIterations)\n",
    "userID = 122\n",
    "print(\"\\nRatings for user ID \" + str(userID) + \":\")\n",
    "userRatings = ratings.filter(lambda l: l[0] == userID)\n",
    "for rating in userRatings.collect():\n",
    "\tprint(nameDict[int(rating[1])] + \": \" + str(rating[2]))\n",
    "print(\"\\nTop 10 recommendations:\")\n",
    "recommendations = model.recommendProducts(userID, 10)\n",
    "for recommendation in recommendations:\n",
    "\tprint(nameDict[int(recommendation[1])] +\\\n",
    "\t\t\" score \" + str(recommendation[2]))"
   ]
  },
  {
   "cell_type": "code",
   "execution_count": null,
   "metadata": {},
   "outputs": [],
   "source": []
  }
 ],
 "metadata": {
  "kernelspec": {
   "display_name": "Python 3",
   "language": "python",
   "name": "python3"
  },
  "language_info": {
   "codemirror_mode": {
    "name": "ipython",
    "version": 3
   },
   "file_extension": ".py",
   "mimetype": "text/x-python",
   "name": "python",
   "nbconvert_exporter": "python",
   "pygments_lexer": "ipython3",
   "version": "3.6.3"
  }
 },
 "nbformat": 4,
 "nbformat_minor": 2
}
