{
 "cells": [
  {
   "cell_type": "code",
   "execution_count": 83,
   "metadata": {},
   "outputs": [],
   "source": [
    "from pyspark import SparkConf, SparkContext\n",
    "import pandas as pd\n",
    "import numpy as np\n",
    "from math import sqrt"
   ]
  },
  {
   "cell_type": "code",
   "execution_count": 2,
   "metadata": {},
   "outputs": [],
   "source": [
    "conf = SparkConf()\n",
    "sc = SparkContext.getOrCreate()"
   ]
  },
  {
   "cell_type": "code",
   "execution_count": 3,
   "metadata": {},
   "outputs": [],
   "source": [
    "rating_data = sc.textFile(\"ml-100k/u.data\")\n",
    "movie_data = sc.textFile(\"ml-100k/u.item\")"
   ]
  },
  {
   "cell_type": "code",
   "execution_count": 4,
   "metadata": {},
   "outputs": [
    {
     "data": {
      "text/plain": [
       "['1062|Four Days in September (1997)|23-Jan-1998||http://us.imdb.com/M/title-exact?imdb-title-119815|0|0|0|0|0|0|0|0|1|0|0|0|0|0|0|0|0|0|0',\n",
       " '110|Operation Dumbo Drop (1995)|01-Jan-1995||http://us.imdb.com/M/title-exact?Operation%20Dumbo%20Drop%20(1995)|0|1|1|0|0|1|0|0|0|0|0|0|0|0|0|0|0|1|0',\n",
       " '1457|Love Is All There Is (1996)|11-Oct-1996||http://us.imdb.com/M/title-exact?Love%20Is%20All%20There%20Is%20(1996)|0|0|0|0|0|1|0|0|1|0|0|0|0|0|0|0|0|0|0',\n",
       " '730|Queen Margot (Reine Margot, La) (1994)|01-Jan-1996||http://us.imdb.com/Title?Reine+Margot,+La+(1994)|0|0|0|0|0|0|0|0|1|0|0|0|0|0|1|0|0|0|0',\n",
       " '81|Hudsucker Proxy, The (1994)|01-Jan-1994||http://us.imdb.com/M/title-exact?Hudsucker%20Proxy,%20The%20(1994)|0|0|0|0|0|1|0|0|0|0|0|0|0|0|1|0|0|0|0']"
      ]
     },
     "execution_count": 4,
     "metadata": {},
     "output_type": "execute_result"
    }
   ],
   "source": [
    "movie_data.takeSample(False, 5)"
   ]
  },
  {
   "cell_type": "code",
   "execution_count": 96,
   "metadata": {},
   "outputs": [
    {
     "data": {
      "text/plain": [
       "['640\\t55\\t5\\t874777765',\n",
       " '264\\t430\\t5\\t886123531',\n",
       " '255\\t219\\t5\\t883216544',\n",
       " '268\\t21\\t3\\t875742822',\n",
       " '275\\t448\\t3\\t880314383',\n",
       " '132\\t521\\t4\\t891278996',\n",
       " '130\\t815\\t3\\t874953866',\n",
       " '545\\t720\\t3\\t883115664',\n",
       " '864\\t182\\t3\\t888886913',\n",
       " '664\\t481\\t5\\t878091912']"
      ]
     },
     "execution_count": 96,
     "metadata": {},
     "output_type": "execute_result"
    }
   ],
   "source": [
    "rating_data.takeSample(False, 10)"
   ]
  },
  {
   "cell_type": "code",
   "execution_count": 6,
   "metadata": {},
   "outputs": [],
   "source": [
    "movie_ids = rating_data.map(lambda line: line.split('\\t')[1])"
   ]
  },
  {
   "cell_type": "code",
   "execution_count": 7,
   "metadata": {},
   "outputs": [],
   "source": [
    "movie_count = movie_ids.map(lambda id: (id, 1)).reduceByKey(lambda v1,v2: v1+v2).collect()"
   ]
  },
  {
   "cell_type": "code",
   "execution_count": 8,
   "metadata": {},
   "outputs": [
    {
     "data": {
      "text/plain": [
       "1682"
      ]
     },
     "execution_count": 8,
     "metadata": {},
     "output_type": "execute_result"
    }
   ],
   "source": [
    "len(movie_count)"
   ]
  },
  {
   "cell_type": "code",
   "execution_count": 13,
   "metadata": {},
   "outputs": [],
   "source": [
    "def extract_user_rating(line):\n",
    "    data = line.split('\\t')\n",
    "    return (data[0], (data[1], data[2]))"
   ]
  },
  {
   "cell_type": "code",
   "execution_count": 14,
   "metadata": {
    "scrolled": true
   },
   "outputs": [],
   "source": [
    "def filter_rating_by_movie_id(movie_id):\n",
    "    return rating_data.filter(lambda line: line.split('\\t')[1] == movie_id).map(extract_user_rating)"
   ]
  },
  {
   "cell_type": "code",
   "execution_count": 108,
   "metadata": {
    "scrolled": true
   },
   "outputs": [],
   "source": [
    "m995 = filter_rating_by_movie_id('21')\n",
    "m223 = filter_rating_by_movie_id('481')"
   ]
  },
  {
   "cell_type": "code",
   "execution_count": 109,
   "metadata": {},
   "outputs": [
    {
     "data": {
      "text/plain": [
       "[('151', ('481', '3')),\n",
       " ('308', ('481', '4')),\n",
       " ('334', ('481', '5')),\n",
       " ('6', ('481', '5')),\n",
       " ('318', ('481', '4')),\n",
       " ('312', ('481', '5')),\n",
       " ('7', ('481', '5')),\n",
       " ('398', ('481', '3')),\n",
       " ('234', ('481', '5')),\n",
       " ('345', ('481', '3')),\n",
       " ('13', ('481', '3')),\n",
       " ('382', ('481', '5')),\n",
       " ('82', ('481', '5')),\n",
       " ('465', ('481', '4')),\n",
       " ('406', ('481', '3')),\n",
       " ('85', ('481', '4')),\n",
       " ('429', ('481', '3')),\n",
       " ('194', ('481', '3')),\n",
       " ('202', ('481', '1')),\n",
       " ('474', ('481', '4')),\n",
       " ('401', ('481', '3')),\n",
       " ('553', ('481', '3')),\n",
       " ('326', ('481', '1')),\n",
       " ('389', ('481', '5')),\n",
       " ('539', ('481', '4')),\n",
       " ('409', ('481', '3')),\n",
       " ('655', ('481', '2')),\n",
       " ('664', ('481', '5')),\n",
       " ('450', ('481', '5')),\n",
       " ('556', ('481', '5')),\n",
       " ('716', ('481', '4')),\n",
       " ('659', ('481', '5')),\n",
       " ('848', ('481', '3')),\n",
       " ('271', ('481', '3')),\n",
       " ('870', ('481', '4')),\n",
       " ('301', ('481', '4')),\n",
       " ('747', ('481', '5')),\n",
       " ('567', ('481', '5')),\n",
       " ('313', ('481', '4')),\n",
       " ('643', ('481', '4')),\n",
       " ('896', ('481', '4')),\n",
       " ('913', ('481', '3')),\n",
       " ('299', ('481', '3')),\n",
       " ('892', ('481', '5')),\n",
       " ('90', ('481', '5')),\n",
       " ('875', ('481', '5')),\n",
       " ('878', ('481', '5')),\n",
       " ('452', ('481', '5')),\n",
       " ('758', ('481', '5')),\n",
       " ('731', ('481', '3')),\n",
       " ('766', ('481', '4')),\n",
       " ('744', ('481', '3')),\n",
       " ('698', ('481', '3')),\n",
       " ('694', ('481', '4')),\n",
       " ('767', ('481', '5')),\n",
       " ('751', ('481', '4')),\n",
       " ('328', ('481', '3')),\n",
       " ('908', ('481', '3')),\n",
       " ('934', ('481', '4')),\n",
       " ('704', ('481', '5')),\n",
       " ('932', ('481', '4')),\n",
       " ('426', ('481', '5')),\n",
       " ('524', ('481', '4'))]"
      ]
     },
     "execution_count": 109,
     "metadata": {},
     "output_type": "execute_result"
    }
   ],
   "source": [
    "m223.collect()"
   ]
  },
  {
   "cell_type": "code",
   "execution_count": 110,
   "metadata": {},
   "outputs": [
    {
     "data": {
      "text/plain": [
       "[('82', (('21', '1'), ('481', '5'))),\n",
       " ('429', (('21', '2'), ('481', '3'))),\n",
       " ('6', (('21', '3'), ('481', '5'))),\n",
       " ('308', (('21', '3'), ('481', '4'))),\n",
       " ('751', (('21', '5'), ('481', '4'))),\n",
       " ('870', (('21', '3'), ('481', '4'))),\n",
       " ('234', (('21', '3'), ('481', '5'))),\n",
       " ('747', (('21', '2'), ('481', '5'))),\n",
       " ('301', (('21', '2'), ('481', '4'))),\n",
       " ('13', (('21', '3'), ('481', '3'))),\n",
       " ('655', (('21', '2'), ('481', '2')))]"
      ]
     },
     "execution_count": 110,
     "metadata": {},
     "output_type": "execute_result"
    }
   ],
   "source": [
    "join_rdd = m995.join(m223)\n",
    "join_rdd.collect()"
   ]
  },
  {
   "cell_type": "code",
   "execution_count": 111,
   "metadata": {},
   "outputs": [],
   "source": [
    "def part_cosine_sim(line):\n",
    "    s1 = int(line[1][0][1])\n",
    "    s2 = int(line[1][1][1])\n",
    "    \n",
    "    return (s1*s2, s1**2, s2**2)"
   ]
  },
  {
   "cell_type": "code",
   "execution_count": 112,
   "metadata": {},
   "outputs": [
    {
     "data": {
      "text/plain": [
       "[(5, 1, 25),\n",
       " (6, 4, 9),\n",
       " (15, 9, 25),\n",
       " (12, 9, 16),\n",
       " (20, 25, 16),\n",
       " (12, 9, 16),\n",
       " (15, 9, 25),\n",
       " (10, 4, 25),\n",
       " (8, 4, 16),\n",
       " (9, 9, 9),\n",
       " (4, 4, 4)]"
      ]
     },
     "execution_count": 112,
     "metadata": {},
     "output_type": "execute_result"
    }
   ],
   "source": [
    "p_score = join_rdd.map(part_cosine_sim)\n",
    "p_score.collect()"
   ]
  },
  {
   "cell_type": "code",
   "execution_count": 113,
   "metadata": {},
   "outputs": [
    {
     "data": {
      "text/plain": [
       "(116, 87, 186)"
      ]
     },
     "execution_count": 113,
     "metadata": {},
     "output_type": "execute_result"
    }
   ],
   "source": [
    "score_3_parts = p_score.reduce(lambda s1, s2: (s1[0]+s2[0], s1[1]+s2[1], s1[2]+s2[2]))\n",
    "score_3_parts"
   ]
  },
  {
   "cell_type": "code",
   "execution_count": 114,
   "metadata": {},
   "outputs": [
    {
     "data": {
      "text/plain": [
       "0.9118888192307179"
      ]
     },
     "execution_count": 114,
     "metadata": {},
     "output_type": "execute_result"
    }
   ],
   "source": [
    "score = score_3_parts[0] / (sqrt(score_3_parts[1]) * sqrt(score_3_parts[2]))\n",
    "score"
   ]
  },
  {
   "cell_type": "code",
   "execution_count": 118,
   "metadata": {},
   "outputs": [],
   "source": [
    "def cosince_similarity(rating_data, movie_id1, movie_id2):\n",
    "\n",
    "    def _filter_rating_by_movie_id(movie_id):\n",
    "        def __extract_user_rating(line):\n",
    "            data = line.split('\\t')\n",
    "            return (data[0], (data[1], data[2]))\n",
    "        \n",
    "        return rating_data.filter(lambda line: line.split('\\t')[1] == movie_id).map(__extract_user_rating)\n",
    "\n",
    "    def _part_cosine_sim(line):\n",
    "        s1 = int(line[1][0][1])\n",
    "        s2 = int(line[1][1][1])\n",
    "\n",
    "        return (s1*s2, s1**2, s2**2)\n",
    "\n",
    "    movie1_rating = _filter_rating_by_movie_id(movie_id1)\n",
    "    movie2_rating = _filter_rating_by_movie_id(movie_id2)\n",
    "    \n",
    "    join_rdd = movie1_rating.join(movie2_rating)\n",
    "    \n",
    "    p_score = join_rdd.map(_part_cosine_sim)\n",
    "    score_3_parts = p_score.reduce(lambda s1, s2: (s1[0]+s2[0], s1[1]+s2[1], s1[2]+s2[2]))\n",
    "    score = score_3_parts[0] / (sqrt(score_3_parts[1]) * sqrt(score_3_parts[2]))\n",
    "    \n",
    "    return score"
   ]
  },
  {
   "cell_type": "code",
   "execution_count": 119,
   "metadata": {},
   "outputs": [
    {
     "name": "stdout",
     "output_type": "stream",
     "text": [
      "(116, 87, 186)\n"
     ]
    },
    {
     "data": {
      "text/plain": [
       "0.9118888192307179"
      ]
     },
     "execution_count": 119,
     "metadata": {},
     "output_type": "execute_result"
    }
   ],
   "source": [
    "cosince_similarity(rating_data, '21', '481')"
   ]
  },
  {
   "cell_type": "code",
   "execution_count": null,
   "metadata": {},
   "outputs": [],
   "source": []
  },
  {
   "cell_type": "code",
   "execution_count": null,
   "metadata": {},
   "outputs": [],
   "source": []
  }
 ],
 "metadata": {
  "kernelspec": {
   "display_name": "Python 3",
   "language": "python",
   "name": "python3"
  },
  "language_info": {
   "codemirror_mode": {
    "name": "ipython",
    "version": 3
   },
   "file_extension": ".py",
   "mimetype": "text/x-python",
   "name": "python",
   "nbconvert_exporter": "python",
   "pygments_lexer": "ipython3",
   "version": "3.6.3"
  }
 },
 "nbformat": 4,
 "nbformat_minor": 2
}
